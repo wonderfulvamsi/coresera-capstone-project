{
 "cells": [
  {
   "cell_type": "markdown",
   "metadata": {},
   "source": [
    "![title](proj.jpg)"
   ]
  },
  {
   "cell_type": "markdown",
   "metadata": {},
   "source": [
    "CORESERA CAPSTONE PROJECT :\n",
    "===\n",
    "\n",
    "\"STAR RANK\"\n",
    "---\n",
    "\n",
    "---\n",
    "---\n",
    "---"
   ]
  },
  {
   "cell_type": "markdown",
   "metadata": {},
   "source": [
    "Introduction to Business Problem :\n",
    "==="
   ]
  },
  {
   "cell_type": "markdown",
   "metadata": {},
   "source": [
    "                                                                             In this project we will try to find the top nutritious coffees of Starbucks."
   ]
  },
  {
   "cell_type": "markdown",
   "metadata": {},
   "source": [
    "Background :\n",
    "===\n"
   ]
  },
  {
   "cell_type": "markdown",
   "metadata": {},
   "source": [
    "                                      Taking nutritious food is vey important to our health,it also helps us to be fit.There are many number of beniftis by taking a 'coffee' for instance,Two cups of coffee can cut post-workout muscle pain by up to 48%(From the Journal of Pain, March 2007).Moreover every time we go out for a meeting some one,we might probably endup at a  coffee shope like Starbucks(mostly in-case of dates).Since Starbucks is the most popular in it's kind we focus on the coffees by it.\n",
    "                                      \n",
    "So, we will try to determine the nutrition rank of the coffees."
   ]
  },
  {
   "cell_type": "markdown",
   "metadata": {},
   "source": [
    "Why do we need to Solve?\n",
    "==="
   ]
  },
  {
   "cell_type": "markdown",
   "metadata": {},
   "source": [
    "If we could figure out a way to measure how nutritious a coffee is,then it would be very useful for the coustemers as this could let them know about what they were taking.Also the cooks who prepares the new kind of coffee will have a better scope of evaluating their creation."
   ]
  },
  {
   "cell_type": "markdown",
   "metadata": {},
   "source": [
    "Target audiences :\n",
    "==="
   ]
  },
  {
   "cell_type": "markdown",
   "metadata": {},
   "source": [
    ">__coustomers__ :        Esspecialy those who are in a diet.\n",
    "\n",
    ">__cooks__ :                 Gives a better scope of evaluating their creation.\n",
    "\n",
    ">__stake holders__ :     This allows them to set prices according to the nutrition rank."
   ]
  },
  {
   "cell_type": "markdown",
   "metadata": {},
   "source": [
    "Data Source :\n",
    "=="
   ]
  },
  {
   "cell_type": "markdown",
   "metadata": {},
   "source": [
    ">FOURSQUARE : for location of venues.\n",
    "\n",
    ">KAGGLE DATASETS : for the chemical values & Menu\n"
   ]
  },
  {
   "cell_type": "markdown",
   "metadata": {},
   "source": [
    "Methodology,Data & Feature explanation :\n",
    "==="
   ]
  },
  {
   "cell_type": "markdown",
   "metadata": {},
   "source": [
    "We gonna extract and merge the data of location and the data of the chemical values of all of the coffees made by Starbucks and then we form a dataframe of the NULL values droped.Then we gonna visualize each of the feature impact if not necessary we will drop it..\n",
    "                            However features like location & the levels of chemicals will be features.now we gonna use K-means algorithm to form 5 clusters in the taken dataset.Then we will recurrsively train the model with all the clusters by again taking k as 5,till we encounter singel values in the clusters.at the end as many as number of clusters formed as the number of coffees.so we've used clustering for the ranking of the coffees.\n",
    "\n",
    ">K-means\n",
    "\n",
    ">Recurssion"
   ]
  },
  {
   "cell_type": "markdown",
   "metadata": {},
   "source": [
    "Example:\n",
    "=="
   ]
  },
  {
   "cell_type": "markdown",
   "metadata": {},
   "source": [
    "                                Consider there are 25 coffees in the dataframe after cleaning.then the dataset is trained by the first        iteration which form 5 clusters.then in second iteration each cluster is taken as the new dataframe and again train the model to form 5 clusters amoung the all 5 old clusters.\n",
    "                               \n",
    "Which results 25 clusters forming 25 Ranks.."
   ]
  }
 ],
 "metadata": {
  "kernelspec": {
   "display_name": "Python 3",
   "language": "python",
   "name": "python3"
  },
  "language_info": {
   "codemirror_mode": {
    "name": "ipython",
    "version": 3
   },
   "file_extension": ".py",
   "mimetype": "text/x-python",
   "name": "python",
   "nbconvert_exporter": "python",
   "pygments_lexer": "ipython3",
   "version": "3.7.2"
  }
 },
 "nbformat": 4,
 "nbformat_minor": 2
}
